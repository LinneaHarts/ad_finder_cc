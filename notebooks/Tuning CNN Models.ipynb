{
 "cells": [
  {
   "cell_type": "markdown",
   "metadata": {},
   "source": [
    "# Tuning the Best CNN Models #\n",
    "\n",
    "In this notebook, I will select the top three best models and tune their hyperparameters to get the best fit.\n",
    "\n",
    "| Model | Accuracy |\n",
    "| ---- | ---- |\n",
    "| LogisticRegression | 0.792 | \n",
    "| KNeighborsClassifier | 0.750 | \n",
    "| SVC | 0.715 | \n",
    "| LinearSVC | 0.741 | \n",
    "| SGDClassifier | 0.359 | \n",
    "| DecisionTreeClassifier | 0.803| \n",
    "| RandomForestClassifier | 0.853 | \n",
    "| BaggingClassifier | 0.822 | \n",
    "| GradientBoostingClassifier | 0.786 | \n",
    "| AdaBoostClassifier | 0.785 | \n",
    "\n",
    "DecisionTree, RandomForest, and Bagging have the best accuracy so these are the ones I will tune."
   ]
  },
  {
   "cell_type": "code",
   "execution_count": 1,
   "metadata": {},
   "outputs": [],
   "source": [
    "import pandas as pd\n",
    "import nltk\n",
    "import numpy as np\n",
    "import seaborn as sns\n",
    "import matplotlib.pyplot as plt\n",
    "import re\n",
    "\n",
    "from nltk.stem import WordNetLemmatizer \n",
    "from nltk import word_tokenize  \n",
    "from nltk.corpus import stopwords\n",
    "\n",
    "from sklearn.feature_extraction.text import TfidfVectorizer, CountVectorizer\n",
    "from sklearn.model_selection import train_test_split, GridSearchCV, RandomizedSearchCV\n",
    "from sklearn import tree\n",
    "from sklearn import ensemble\n",
    "from sklearn.pipeline import Pipeline\n",
    "from sklearn.metrics import confusion_matrix, classification_report, mean_squared_error\n",
    "from math import sqrt"
   ]
  },
  {
   "cell_type": "code",
   "execution_count": 2,
   "metadata": {},
   "outputs": [
    {
     "data": {
      "text/html": [
       "<div>\n",
       "<style scoped>\n",
       "    .dataframe tbody tr th:only-of-type {\n",
       "        vertical-align: middle;\n",
       "    }\n",
       "\n",
       "    .dataframe tbody tr th {\n",
       "        vertical-align: top;\n",
       "    }\n",
       "\n",
       "    .dataframe thead th {\n",
       "        text-align: right;\n",
       "    }\n",
       "</style>\n",
       "<table border=\"1\" class=\"dataframe\">\n",
       "  <thead>\n",
       "    <tr style=\"text-align: right;\">\n",
       "      <th></th>\n",
       "      <th>identifier</th>\n",
       "      <th>start_snip</th>\n",
       "      <th>end_snip</th>\n",
       "      <th>sentence</th>\n",
       "      <th>cluster</th>\n",
       "      <th>ad_cluster</th>\n",
       "      <th>news_cluster</th>\n",
       "      <th>snip_ad</th>\n",
       "      <th>isad</th>\n",
       "      <th>contributor</th>\n",
       "      <th>...</th>\n",
       "      <th>has_prev_appreciate</th>\n",
       "      <th>has_next_appreciate</th>\n",
       "      <th>has_prev_ahead</th>\n",
       "      <th>has_prev_return</th>\n",
       "      <th>has_prev_after this</th>\n",
       "      <th>has_prev_go away</th>\n",
       "      <th>has_next_good evening</th>\n",
       "      <th>has_prev_applause</th>\n",
       "      <th>has_next_applause</th>\n",
       "      <th>has_prev_tuned</th>\n",
       "    </tr>\n",
       "  </thead>\n",
       "  <tbody>\n",
       "    <tr>\n",
       "      <th>0</th>\n",
       "      <td>CNNW_20190528_060000_CNN_Newsroom_Live</td>\n",
       "      <td>0</td>\n",
       "      <td>60</td>\n",
       "      <td>now the fastest, most reliable internet can he...</td>\n",
       "      <td>1</td>\n",
       "      <td>0</td>\n",
       "      <td>0</td>\n",
       "      <td>0</td>\n",
       "      <td>1.0</td>\n",
       "      <td>CNNW</td>\n",
       "      <td>...</td>\n",
       "      <td>0</td>\n",
       "      <td>0</td>\n",
       "      <td>0</td>\n",
       "      <td>0</td>\n",
       "      <td>0</td>\n",
       "      <td>0</td>\n",
       "      <td>0</td>\n",
       "      <td>0</td>\n",
       "      <td>0</td>\n",
       "      <td>0</td>\n",
       "    </tr>\n",
       "    <tr>\n",
       "      <th>1</th>\n",
       "      <td>CNNW_20190528_060000_CNN_Newsroom_Live</td>\n",
       "      <td>0</td>\n",
       "      <td>60</td>\n",
       "      <td>that's simple, easy, awesome.</td>\n",
       "      <td>1</td>\n",
       "      <td>0</td>\n",
       "      <td>0</td>\n",
       "      <td>0</td>\n",
       "      <td>1.0</td>\n",
       "      <td>CNNW</td>\n",
       "      <td>...</td>\n",
       "      <td>0</td>\n",
       "      <td>0</td>\n",
       "      <td>0</td>\n",
       "      <td>0</td>\n",
       "      <td>0</td>\n",
       "      <td>0</td>\n",
       "      <td>0</td>\n",
       "      <td>0</td>\n",
       "      <td>0</td>\n",
       "      <td>0</td>\n",
       "    </tr>\n",
       "    <tr>\n",
       "      <th>2</th>\n",
       "      <td>CNNW_20190528_060000_CNN_Newsroom_Live</td>\n",
       "      <td>0</td>\n",
       "      <td>60</td>\n",
       "      <td>taxi!</td>\n",
       "      <td>1</td>\n",
       "      <td>0</td>\n",
       "      <td>0</td>\n",
       "      <td>0</td>\n",
       "      <td>1.0</td>\n",
       "      <td>CNNW</td>\n",
       "      <td>...</td>\n",
       "      <td>0</td>\n",
       "      <td>0</td>\n",
       "      <td>0</td>\n",
       "      <td>0</td>\n",
       "      <td>0</td>\n",
       "      <td>0</td>\n",
       "      <td>0</td>\n",
       "      <td>0</td>\n",
       "      <td>0</td>\n",
       "      <td>0</td>\n",
       "    </tr>\n",
       "    <tr>\n",
       "      <th>3</th>\n",
       "      <td>CNNW_20190528_060000_CNN_Newsroom_Live</td>\n",
       "      <td>0</td>\n",
       "      <td>60</td>\n",
       "      <td>should i have stopped her?</td>\n",
       "      <td>1</td>\n",
       "      <td>0</td>\n",
       "      <td>0</td>\n",
       "      <td>0</td>\n",
       "      <td>1.0</td>\n",
       "      <td>CNNW</td>\n",
       "      <td>...</td>\n",
       "      <td>0</td>\n",
       "      <td>0</td>\n",
       "      <td>0</td>\n",
       "      <td>0</td>\n",
       "      <td>0</td>\n",
       "      <td>0</td>\n",
       "      <td>0</td>\n",
       "      <td>0</td>\n",
       "      <td>0</td>\n",
       "      <td>0</td>\n",
       "    </tr>\n",
       "    <tr>\n",
       "      <th>4</th>\n",
       "      <td>CNNW_20190528_060000_CNN_Newsroom_Live</td>\n",
       "      <td>0</td>\n",
       "      <td>60</td>\n",
       "      <td>save hundreds of dollars a year when you get i...</td>\n",
       "      <td>1</td>\n",
       "      <td>0</td>\n",
       "      <td>0</td>\n",
       "      <td>0</td>\n",
       "      <td>1.0</td>\n",
       "      <td>CNNW</td>\n",
       "      <td>...</td>\n",
       "      <td>0</td>\n",
       "      <td>0</td>\n",
       "      <td>0</td>\n",
       "      <td>0</td>\n",
       "      <td>0</td>\n",
       "      <td>0</td>\n",
       "      <td>0</td>\n",
       "      <td>0</td>\n",
       "      <td>0</td>\n",
       "      <td>0</td>\n",
       "    </tr>\n",
       "  </tbody>\n",
       "</table>\n",
       "<p>5 rows × 106 columns</p>\n",
       "</div>"
      ],
      "text/plain": [
       "                               identifier  start_snip  end_snip  \\\n",
       "0  CNNW_20190528_060000_CNN_Newsroom_Live           0        60   \n",
       "1  CNNW_20190528_060000_CNN_Newsroom_Live           0        60   \n",
       "2  CNNW_20190528_060000_CNN_Newsroom_Live           0        60   \n",
       "3  CNNW_20190528_060000_CNN_Newsroom_Live           0        60   \n",
       "4  CNNW_20190528_060000_CNN_Newsroom_Live           0        60   \n",
       "\n",
       "                                            sentence  cluster  ad_cluster  \\\n",
       "0  now the fastest, most reliable internet can he...        1           0   \n",
       "1                      that's simple, easy, awesome.        1           0   \n",
       "2                                              taxi!        1           0   \n",
       "3                         should i have stopped her?        1           0   \n",
       "4  save hundreds of dollars a year when you get i...        1           0   \n",
       "\n",
       "   news_cluster  snip_ad  isad contributor  ... has_prev_appreciate  \\\n",
       "0             0        0   1.0        CNNW  ...                   0   \n",
       "1             0        0   1.0        CNNW  ...                   0   \n",
       "2             0        0   1.0        CNNW  ...                   0   \n",
       "3             0        0   1.0        CNNW  ...                   0   \n",
       "4             0        0   1.0        CNNW  ...                   0   \n",
       "\n",
       "  has_next_appreciate has_prev_ahead has_prev_return  has_prev_after this  \\\n",
       "0                   0              0               0                    0   \n",
       "1                   0              0               0                    0   \n",
       "2                   0              0               0                    0   \n",
       "3                   0              0               0                    0   \n",
       "4                   0              0               0                    0   \n",
       "\n",
       "   has_prev_go away  has_next_good evening  has_prev_applause  \\\n",
       "0                 0                      0                  0   \n",
       "1                 0                      0                  0   \n",
       "2                 0                      0                  0   \n",
       "3                 0                      0                  0   \n",
       "4                 0                      0                  0   \n",
       "\n",
       "   has_next_applause  has_prev_tuned  \n",
       "0                  0               0  \n",
       "1                  0               0  \n",
       "2                  0               0  \n",
       "3                  0               0  \n",
       "4                  0               0  \n",
       "\n",
       "[5 rows x 106 columns]"
      ]
     },
     "execution_count": 2,
     "metadata": {},
     "output_type": "execute_result"
    }
   ],
   "source": [
    "cnn_df = pd.read_excel('../data/interim/cnn_ready_to_code.xlsx').drop(columns=['Unnamed: 0', 'Unnamed: 0.1']).fillna(0)\n",
    "cnn_df.head()"
   ]
  },
  {
   "cell_type": "code",
   "execution_count": 3,
   "metadata": {},
   "outputs": [],
   "source": [
    "y = np.array(cnn_df['isad'])\n",
    "X = cnn_df.drop(columns=['identifier', 'contributor', 'subjects', 'start_time', 'stop_time', 'runtime',\n",
    "                        'isad']).dropna()\n",
    "X_train, X_test, y_train, y_test = train_test_split(X, y, test_size=0.3, random_state=18)"
   ]
  },
  {
   "cell_type": "code",
   "execution_count": 4,
   "metadata": {},
   "outputs": [],
   "source": [
    "stop_words = stopwords.words('english')\n",
    "stop_words.extend(['from', 'subject', 're', 'edu', 'use', 'not', 'would', 'say', 'could',\n",
    "                           '_', 'be', 'know', 'good', 'go', 'get', 'do', 'done', 'try', 'many',\n",
    "                           'some', 'nice', 'thank', 'think', 'see', 'rather', 'easy', 'easily',\n",
    "                           'lot', 'lack', 'make', 'want', 'seem', 'run', 'need', 'even', 'right',\n",
    "                           'line', 'even', 'also', 'may', 'take', 'come', 'hi', 'ha', 'le', 'u', 'wa', 'thi',\n",
    "                           'to', 'one'])"
   ]
  },
  {
   "cell_type": "code",
   "execution_count": 5,
   "metadata": {},
   "outputs": [],
   "source": [
    "def clean_sent(sentences):\n",
    "    for sent in sentences:\n",
    "        sent = str(sent)\n",
    "        sent = re.sub('\\s+', ' ', sent)  # remove newline chars\n",
    "        sent = re.sub(\"\\'\", \"\", sent)  # remove single quotes\n",
    "        sent = re.sub(\"([\\d,\\,\\./!#$%&\\'\\\":;>\\?@\\[\\]`)(\\+])+\", \"\", sent) # remove digits and remove punctuation\n",
    "        sent = re.sub(\"([-])+\", \" \", sent)\n",
    "        yield(sent)  "
   ]
  },
  {
   "cell_type": "code",
   "execution_count": 6,
   "metadata": {},
   "outputs": [
    {
     "data": {
      "text/plain": [
       "['thats why were working on ways to improve it',\n",
       " 'theres no changing democrats got a benefit from an unusually large number of voters in  people who hadnt votds in  who turned up and voted predomitly for democrats',\n",
       " 'otherwise we just wont be able to do business',\n",
       " ' she would move to canada if you got elected',\n",
       " 'do you see it as an unrealistic position']"
      ]
     },
     "execution_count": 6,
     "metadata": {},
     "output_type": "execute_result"
    }
   ],
   "source": [
    "corpus_train = list(clean_sent(X_train.sentence.values.tolist()))\n",
    "corpus_test = list(clean_sent(X_test.sentence.values.tolist()))\n",
    "corpus_train[:5]"
   ]
  },
  {
   "cell_type": "code",
   "execution_count": 7,
   "metadata": {},
   "outputs": [],
   "source": [
    "#lemmatize before vectorizing\n",
    "\n",
    "class LemmaTokenizer:\n",
    "    def __init__(self):\n",
    "        self.wnl = WordNetLemmatizer()\n",
    "    def __call__(self, doc):\n",
    "        return [self.wnl.lemmatize(t) for t in word_tokenize(doc)]\n",
    "\n",
    "vect = TfidfVectorizer(tokenizer=LemmaTokenizer(), strip_accents='unicode', stop_words='english', \n",
    "                       min_df=2, max_df=0.3, ngram_range=(1,2))"
   ]
  },
  {
   "cell_type": "code",
   "execution_count": 8,
   "metadata": {},
   "outputs": [
    {
     "name": "stderr",
     "output_type": "stream",
     "text": [
      "C:\\Users\\linne\\Anaconda3\\lib\\site-packages\\sklearn\\feature_extraction\\text.py:385: UserWarning: Your stop_words may be inconsistent with your preprocessing. Tokenizing the stop words generated tokens ['ha', 'le', 'u', 'wa'] not in stop_words.\n",
      "  'stop_words.' % sorted(inconsistent))\n"
     ]
    }
   ],
   "source": [
    "X_train_bow = vect.fit_transform(corpus_train)\n",
    "X_test_bow = vect.transform(corpus_test)\n",
    "X_train_bow_df = pd.DataFrame(X_train_bow.toarray())\n",
    "X_train_joined = X_train.reset_index().join(X_train_bow_df).drop(columns=['index'])\n",
    "X_test_bow_df = pd.DataFrame(X_test_bow.toarray())\n",
    "X_test_joined = X_test.reset_index().join(X_test_bow_df).drop(columns=['index'])\n",
    "X_train_joined = X_train_joined.drop(columns=['sentence'])\n",
    "X_test_joined = X_test_joined.drop(columns=['sentence'])"
   ]
  },
  {
   "cell_type": "code",
   "execution_count": 9,
   "metadata": {},
   "outputs": [],
   "source": [
    "def plot_confusion_matrix(model, X, y):\n",
    "    pred = model.predict(X)\n",
    "    c=confusion_matrix(y, pred)\n",
    "    sns.heatmap(c,cmap='BrBG',annot=True)\n",
    "    print(c)\n",
    "    plt.show()"
   ]
  },
  {
   "cell_type": "code",
   "execution_count": 28,
   "metadata": {},
   "outputs": [
    {
     "name": "stdout",
     "output_type": "stream",
     "text": [
      "Accuracy: 0.8116666666666666\n",
      "Tuned Model Parameters: {'criterion': 'entropy', 'max_depth': 100, 'min_samples_split': 5, 'splitter': 'random'}\n"
     ]
    }
   ],
   "source": [
    "params = {'criterion' : ['gini', 'entropy'],\n",
    "         'splitter' : ['best', 'random'],\n",
    "         'max_depth' : [10, 50, 75, 100, 200],\n",
    "         'min_samples_split': [2, 5, 10]}\n",
    "dtc = tree.DecisionTreeClassifier(random_state=18)\n",
    "cv = GridSearchCV(dtc, params)\n",
    "cv.fit(X_train_joined, y_train)\n",
    "\n",
    "# Compute and print metrics\n",
    "print(\"Accuracy: {}\".format(cv.score(X_test_joined, y_test)))\n",
    "print(\"Tuned Model Parameters: {}\".format(cv.best_params_))"
   ]
  },
  {
   "cell_type": "code",
   "execution_count": 29,
   "metadata": {},
   "outputs": [
    {
     "name": "stdout",
     "output_type": "stream",
     "text": [
      "[[1906  240]\n",
      " [ 325  529]]\n"
     ]
    },
    {
     "data": {
      "image/png": "[encoded data removed]",
      "text/plain": [
       "<Figure size 432x288 with 2 Axes>"
      ]
     },
     "metadata": {
      "needs_background": "light"
     },
     "output_type": "display_data"
    }
   ],
   "source": [
    "plot_confusion_matrix(cv, X_test_joined, y_test)"
   ]
  },
  {
   "cell_type": "code",
   "execution_count": null,
   "metadata": {},
   "outputs": [],
   "source": [
    "rfc = ensemble.RandomForestClassifier(criterion='entropy', random_state=18)\n",
    "params = {'n_estimators': [10, 100, 500, 1000],\n",
    "         'max_depth' : [10, 50, 100, 200],\n",
    "         'max_features' : ['sqrt', 'log2', None],\n",
    "         'min_samples_split': [2, 5, 10]}\n",
    "cv = RandomizedSearchCV(rfc, params)\n",
    "#cv = GridSearchCV(rfc, params)\n",
    "cv.fit(X_train_joined, y_train)\n"
   ]
  },
  {
   "cell_type": "code",
   "execution_count": 33,
   "metadata": {},
   "outputs": [
    {
     "name": "stdout",
     "output_type": "stream",
     "text": [
      "Accuracy: 0.8576666666666667\n",
      "Tuned Model Parameters: {'n_estimators': 100, 'min_samples_split': 2, 'max_features': 'sqrt', 'max_depth': 200}\n"
     ]
    }
   ],
   "source": [
    "# Compute and print metrics\n",
    "print(\"Accuracy: {}\".format(cv.score(X_test_joined, y_test)))\n",
    "print(\"Tuned Model Parameters: {}\".format(cv.best_params_))"
   ]
  },
  {
   "cell_type": "code",
   "execution_count": 34,
   "metadata": {},
   "outputs": [
    {
     "name": "stdout",
     "output_type": "stream",
     "text": [
      "[[2052   94]\n",
      " [ 333  521]]\n"
     ]
    },
    {
     "data": {
      "image/png": "[encoded data removed]",
      "text/plain": [
       "<Figure size 432x288 with 2 Axes>"
      ]
     },
     "metadata": {
      "needs_background": "light"
     },
     "output_type": "display_data"
    }
   ],
   "source": [
    "plot_confusion_matrix(cv, X_test_joined, y_test)"
   ]
  },
  {
   "cell_type": "code",
   "execution_count": 35,
   "metadata": {},
   "outputs": [
    {
     "name": "stdout",
     "output_type": "stream",
     "text": [
      "Accuracy: 0.857\n",
      "Tuned Model Parameters: {'max_depth': 150}\n"
     ]
    }
   ],
   "source": [
    "rfc = ensemble.RandomForestClassifier(criterion='entropy', n_estimators=100, min_samples_split=2,\n",
    "                                      max_features='sqrt', random_state=18)\n",
    "params = {'max_depth' : [150, 200, 300, 500]}\n",
    "#cv = RandomizedSearchCV(rfc, params)\n",
    "cv = GridSearchCV(rfc, params)\n",
    "cv.fit(X_train_joined, y_train)\n",
    "\n",
    "# Compute and print metrics\n",
    "print(\"Accuracy: {}\".format(cv.score(X_test_joined, y_test)))\n",
    "print(\"Tuned Model Parameters: {}\".format(cv.best_params_))"
   ]
  },
  {
   "cell_type": "markdown",
   "metadata": {},
   "source": [
    "That got worse, so let's say these parameters are the best: \n",
    "\n",
    "Tuned Model Parameters: {'n_estimators': 100, 'min_samples_split': 2, 'max_features': 'sqrt', 'max_depth': 200}"
   ]
  },
  {
   "cell_type": "code",
   "execution_count": 10,
   "metadata": {},
   "outputs": [
    {
     "name": "stdout",
     "output_type": "stream",
     "text": [
      "Accuracy: 0.851\n",
      "Tuned Model Parameters: {'n_estimators': 1000, 'max_features': 0.25}\n"
     ]
    }
   ],
   "source": [
    "bgc = ensemble.BaggingClassifier(random_state=18)\n",
    "params = {'n_estimators': [10, 100, 500, 1000],\n",
    "         'max_features' : [0.25, 0.5, 0.75, 1.0]}\n",
    "cv = RandomizedSearchCV(bgc, params)\n",
    "cv.fit(X_train_joined, y_train)\n",
    "\n",
    "# Compute and print metrics\n",
    "print(\"Accuracy: {}\".format(cv.score(X_test_joined, y_test)))\n",
    "print(\"Tuned Model Parameters: {}\".format(cv.best_params_))"
   ]
  },
  {
   "cell_type": "code",
   "execution_count": null,
   "metadata": {},
   "outputs": [],
   "source": []
  }
 ],
 "metadata": {
  "kernelspec": {
   "display_name": "Python 3",
   "language": "python",
   "name": "python3"
  },
  "language_info": {
   "codemirror_mode": {
    "name": "ipython",
    "version": 3
   },
   "file_extension": ".py",
   "mimetype": "text/x-python",
   "name": "python",
   "nbconvert_exporter": "python",
   "pygments_lexer": "ipython3",
   "version": "3.8.2"
  }
 },
 "nbformat": 4,
 "nbformat_minor": 4
}
